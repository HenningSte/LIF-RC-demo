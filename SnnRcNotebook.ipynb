{
  "nbformat": 4,
  "nbformat_minor": 0,
  "metadata": {
    "colab": {
      "provenance": []
    },
    "kernelspec": {
      "name": "python3",
      "display_name": "Python 3"
    },
    "language_info": {
      "name": "python"
    }
  },
  "cells": [
    {
      "cell_type": "code",
      "execution_count": null,
      "metadata": {
        "id": "Kzucond0C2De"
      },
      "outputs": [],
      "source": []
    },
    {
      "cell_type": "markdown",
      "source": [
        "## Sources\n",
        "https://neuronaldynamics.epfl.ch/online/Ch1.S3.html\n",
        "https://www.circuitbasics.com/how-to-read-schematics/\n",
        "https://en.wikipedia.org/wiki/Ohm%27s_law\n",
        "\n",
        "\n",
        "\n",
        "# Leaky Integrate and Fire Neurons and Reservoir Computing - A Demo\n",
        "\n",
        "The following Notebook is designed to introduce into the topic of leaky integrate and fire neurons and how they can be used in Reservoir networks. It covers the theory behind both concepts and includes some code which shows how the theory is implemented. The notebook is designed as an addition to the course \"Neurodynamics\" therefore a familiarity with base concepts of neurodynamics is expected.\n",
        "\n",
        "## 1. Spiking Neuron Models\n",
        "\n",
        "### 1.1 Biological Neurons vs. Artificial Neurons vs. Spiking Neurons\n",
        "\n",
        "Both Artificial Neurons and Spiking Neurons are based on biological neurons. Biological neurons can encode information through ...\n",
        "Artificial Neurons only adapt ...\n",
        "Spiking Neurons also use ... to encode information. (add bnannsnn jpg)\n",
        "\n",
        "### 1.2 Different Spiking Neuron Models\n",
        "\n",
        "In the course we already learned about some Spiking Neuron Models. The **Hodgkin Huxley Model** models the K+ and Na+ channels, which are the two ion channels that are responsible for the creation of an action potential and a leak reversal potential that models the Cl- ion reversal potential. It is biologically accurate in modeling the membrane potential during spike generation, but it requires large computational ressources and it can not be used to model larger network architectures.\n",
        "\n",
        "The **Izhikevich Model** is a two dimensional system that models the upstroke of spike generation and utilizes an auxiliary spike resetting function to model the downstroke. It is much simpler than the Hodgkin Huxley Model and can emulate all known firing patterns of cortical neurons.\n",
        "\n",
        "Models can be evaluated in terms of their biological plausiility and their cost of implementation. This graph shows what we touched on above: The Hodgkin-Huxley-Model has a high implementation cost but also models the biological behavior very well. The Izhikevich Model is nearly as biological plausible as the Hodgkin-Huxley Model but is much more efficient. The integrate-and-fire variations are mostly even more efficient than the Inzhikevich Model but they are not as biologically plausible. (add SNNcomparison jpg)\n",
        "\n",
        "In this demo we are covering the **Leaky Integrate and Fire (LIF) Model** as this is the base for most Spiking Neural Networks.\n",
        "\n",
        "### 1.3 Leaky Integrate-and-Fire Model\n",
        "For Integrate-and-Fire Models we assume that sub-threshold dynamics of a neuron are a kind of summation process so that inputs to a neuron are summed over time. When a certain threshold is reached, i.e. when there were enough inputs into the neuron, than the neuron spikes and creates an action potential. The moment when the threshold is crossed is called the firing time. The simplest form of Integrate-and-Fire Models is a **Leaky Integrate-and-Fire Model**. To account for a decline in potential over time if the threshold is not reached after an input current, the Leaky Integrate-and-Fire Model adds a leak current which models the drift of ions through the membrane back to the equilibrium. We can derive the model by thinking of the passive membrane as a battery of potential $u_{rest}$ with a capacitator $C$ in parallel with a resistor $R$. (add membrane as battery png)\n",
        "\n",
        "The potential of the battery $u_t$ depends on the driving current $I(t)$. The resistor is a passive circuit component with electrical resistance that restricts the flow of the current. The Capacitor is also a passive component that can store electrical charge. The one used for this model is a non-polarized capacitor which means that it does not matter which side is connected to the positive and which side is connected to the negative pole.\n",
        "If there is no driving current $I(t)$, the voltage at the capacitor is $u_{rest}$, the battery voltage. We can analyse the driving current $I(t)$ by splitting it into two components:\n",
        "\n",
        "$I(t) = I_R + I_C$\n",
        "\n",
        "with\n",
        "\n",
        "$I_R:$ resistive current that passes through linear resistor $R$. Ohm's law describes the relationship between of voltage $u$, resistance $R$ and current $I$ in a conductor as $u = IR$. We can use this to calculate $I_R = u_R/ R$ with $u_R = u - u_{rest}$ as the voltage across the resistor.\n",
        "\n",
        "$I_C:$ current that charges the capacitor $C$ when the potential of the electrode changes. The capacitance $C$ of a capacitor is the ratio of charge $q$ and voltage $u$ so that $C = q/u$. The current flow through a capacitor is the product of the capacitance $C$ and the rate of change of the voltage $du/dt$, so that $I_C = Cdu/dt$.\n",
        "\n",
        "In combination this gives us:\n",
        "\n",
        "$I(t) = \\frac {u(t) - u_{rest}}{R} + C \\frac{du}{dt}$.\n",
        "\n",
        "The equation is multiplied by $R$ and then the 'leaky integrator' is added as the time constant $τ_m = RC$. This gives us the following formula for the leaky integrator model:\n",
        "\n",
        "$τ_m\\frac{du}{dt} = -[u(t) - u_{rest}] + RI(t) $.\n",
        "\n",
        "\n",
        "\n",
        "\n"
      ],
      "metadata": {
        "id": "1vgzACtIC4kY"
      }
    }
  ]
}